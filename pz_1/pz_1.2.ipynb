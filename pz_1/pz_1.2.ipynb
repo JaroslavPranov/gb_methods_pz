{
 "cells": [
  {
   "cell_type": "code",
   "execution_count": 1,
   "metadata": {
    "id": "QOZrjeKoe948"
   },
   "outputs": [],
   "source": [
    "# 2. Изучить список открытых API. Найти среди них любое, требующее авторизацию (любого типа).\n",
    "# Выполнить запросы к нему, пройдя авторизацию. Ответ сервера записать в файл.\n",
    "\n",
    "# Портал об искусстве\n",
    "# www.artsy.net\n",
    "# https://www.programmableweb.com/api/artsy-rest-api-0\n",
    "\n",
    "# Программа читает по API, печатает на экран и сохраняет:\n",
    "# - информацию о художнике (первый запрос по API)\n",
    "# - список работ художника (второй запрос по API)\n",
    "\n",
    "import requests\n",
    "import json\n"
   ]
  },
  {
   "cell_type": "code",
   "execution_count": 2,
   "metadata": {},
   "outputs": [],
   "source": [
    "# Чтение данных по API из artsy.net\n",
    "def get_data_from_artsy_api(link):\n",
    "    \"\"\"Функция возвращает словарь с информацией или пустой словарь,\n",
    "    если ответ сервера отличен от 200 OK.\"\"\"\n",
    "\n",
    "    # Заголовки, User-Agent из Google Chrome\n",
    "    # X-Xapp-Token выдают после регистрации и выполнения специального POST-запроса\n",
    "    headers = {\n",
    "        'User-Agent': 'Mozilla/5.0 (Windows NT 10.0; Win64; x64) AppleWebKit/537.36 (KHTML, like Gecko) '\n",
    "                      'Chrome/83.0.4103.61 Safari/537.36',\n",
    "        'X-Xapp-Token': '+++',\n",
    "        'Accept': 'application/vnd.artsy-v2+json'\n",
    "    }\n",
    "\n",
    "    # Запрос и ответ\n",
    "    response = requests.get(link, headers=headers)\n",
    "\n",
    "    # Данные с сервера (словарь)\n",
    "    data_from_api = {}\n",
    "\n",
    "    # Если ответ сервера 200 Ок\n",
    "    if response.ok:\n",
    "        # Берем словарь\n",
    "        data_from_api = response.json()\n",
    "\n",
    "    # Возвращаем словарь с данными (полный или пустой)\n",
    "    return data_from_api\n",
    "\n",
    "\n"
   ]
  },
  {
   "cell_type": "code",
   "execution_count": 3,
   "metadata": {},
   "outputs": [],
   "source": [
    "# Чтение информации о художнике по API из artsy.net\n",
    "def get_artist_info_from_artsy_api(artist):\n",
    "    \"\"\"Функция возвращает словарь с информацией о художнике.\n",
    "    Если такого художника нет, то функция возвращает пустой словарь.\"\"\"\n",
    "\n",
    "    # Ссылка на API художника\n",
    "    link_to_api = f'https://api.artsy.net/api/artists/{artist}'\n",
    "\n",
    "    # Возвращаем словарь с данными (полный или пустой)\n",
    "    return get_data_from_artsy_api(link_to_api)\n",
    "\n"
   ]
  },
  {
   "cell_type": "code",
   "execution_count": 4,
   "metadata": {},
   "outputs": [],
   "source": [
    "# Чтение работ художника по API из artsy.net\n",
    "def get_artist_artworks_from_artsy_api(link_to_artworks):\n",
    "    \"\"\"Функция возвращает словарь с работами художника.\n",
    "    Если такого художника нет, то функция возвращает пустой словарь.\"\"\"\n",
    "\n",
    "    # Возвращаем словарь с данными (полный или пустой)\n",
    "    return get_data_from_artsy_api(link_to_artworks)\n",
    "\n"
   ]
  },
  {
   "cell_type": "code",
   "execution_count": 5,
   "metadata": {},
   "outputs": [],
   "source": [
    "# Сохранение данных в json-файл\n",
    "def save_data_to_json_file(data, filename):\n",
    "    \"\"\"Функция сохраняет данные в json-файл.\n",
    "    Вовзращает True, если все ОК.\n",
    "    Возвращает False, если при записи произошел сбой.\"\"\"\n",
    "\n",
    "    # Запись файла через try-except, чтобы отловить ошибки\n",
    "    try:\n",
    "        with open(filename, 'w', encoding='utf-8') as my_file:\n",
    "            json.dump(data, my_file, ensure_ascii=False, indent=4)\n",
    "    except IOError:\n",
    "        return False\n",
    "    else:\n",
    "        return True\n",
    "\n"
   ]
  },
  {
   "cell_type": "code",
   "execution_count": 6,
   "metadata": {},
   "outputs": [],
   "source": [
    "# Печать на экран информации о художнике и его работах\n",
    "def print_artist_info_and_artworks(artist, artworks):\n",
    "    \"\"\"Функция печатает на экран информацию о художнике и список его работ.\"\"\"\n",
    "\n",
    "    print(f'Имя художника: {artist.get(\"name\")}')\n",
    "    print(f'Год рождения: {artist.get(\"birthday\")}')\n",
    "    if artist.get('deathday'):\n",
    "        print(f'Год смерти: {artist.get(\"deathday\")}')\n",
    "    print(f'Национальность: {artist.get(\"nationality\")}')\n",
    "\n",
    "    if artworks:\n",
    "        # У художника есть работы\n",
    "        arts_list = artworks['_embedded']['artworks']\n",
    "        arts_list_count = len(arts_list)\n",
    "        print(f'Количество работ художника: {arts_list_count} шт.')\n",
    "\n",
    "        for i, item in enumerate(arts_list, 1):\n",
    "            print(f'{i}) Название: {item.get(\"title\")}')\n",
    "            print(f'   Год создания: {item.get(\"date\")}')\n",
    "            print(f'   Размер: {item[\"dimensions\"][\"cm\"][\"text\"]}')\n",
    "            if item.get(\"collecting_institution\"):\n",
    "                print(f'   Владелец: {item.get(\"collecting_institution\")}')\n",
    "            if i == 5 and arts_list_count > i:\n",
    "                print('.. и другие ...')\n",
    "                break\n",
    "\n",
    "\n"
   ]
  },
  {
   "cell_type": "code",
   "execution_count": 7,
   "metadata": {},
   "outputs": [
    {
     "name": "stdout",
     "output_type": "stream",
     "text": [
      "Имя художника: Andy Warhol\n",
      "Год рождения: 1928\n",
      "Год смерти: 1987\n",
      "Национальность: American\n",
      "Количество работ художника: 0 шт.\n",
      "Полная информация о художнике записана в файл andy-warhol-about.json\n",
      "Полный список работ записан в файл andy-warhol-artworks.json\n"
     ]
    }
   ],
   "source": [
    "if __name__ == '__main__':\n",
    "\n",
    "    # edouard-manet, andy-warhol, edvard-munch, claude-monet\n",
    "    artist_name = 'andy-warhol'\n",
    "\n",
    "    # Получение информации по API\n",
    "    artist_info = get_artist_info_from_artsy_api(artist_name)\n",
    "\n",
    "    if artist_info:\n",
    "\n",
    "        # Получение списка работ автора (второй запрос по API)\n",
    "        artworks_link = artist_info['_links']['artworks']['href']\n",
    "        artist_artworks = get_artist_artworks_from_artsy_api(artworks_link)\n",
    "\n",
    "        # Печать на экран\n",
    "        print_artist_info_and_artworks(artist_info, artist_artworks)\n",
    "\n",
    "        # Запись в файл информации о художнике\n",
    "        json_filename = f'{artist_name}-about.json'\n",
    "        if save_data_to_json_file(artist_info, json_filename):\n",
    "            print(f'Полная информация о художнике записана в файл {json_filename}')\n",
    "        else:\n",
    "            print(f'Внимание! Не удалось записать в файл {json_filename} полную информацию о художнике!')\n",
    "\n",
    "        # Запись в файл списка работ\n",
    "        json_filename = f'{artist_name}-artworks.json'\n",
    "        if save_data_to_json_file(artist_artworks, json_filename):\n",
    "            print(f'Полный список работ записан в файл {json_filename}')\n",
    "        else:\n",
    "            print(f'Внимание! Не удалось записать в файл {json_filename} полный список работ!')\n"
   ]
  }
 ],
 "metadata": {
  "colab": {
   "collapsed_sections": [],
   "name": "pz_1.ipynb",
   "provenance": []
  },
  "kernelspec": {
   "display_name": "Python 3",
   "language": "python",
   "name": "python3"
  },
  "language_info": {
   "codemirror_mode": {
    "name": "ipython",
    "version": 3
   },
   "file_extension": ".py",
   "mimetype": "text/x-python",
   "name": "python",
   "nbconvert_exporter": "python",
   "pygments_lexer": "ipython3",
   "version": "3.8.5"
  }
 },
 "nbformat": 4,
 "nbformat_minor": 1
}
