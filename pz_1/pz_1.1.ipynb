{
 "cells": [
  {
   "cell_type": "code",
   "execution_count": 1,
   "metadata": {
    "colab": {
     "base_uri": "https://localhost:8080/"
    },
    "id": "5j5e2f7ud93n",
    "outputId": "3177e38f-96a6-439d-b8da-445a5cdda9ec"
   },
   "outputs": [],
   "source": [
    "# 1. Посмотреть документацию к API GitHub, разобраться как вывести список репозиториев\n",
    "# для конкретного пользователя, сохранить JSON-вывод в файле *.json.\n",
    "\n",
    "import requests\n",
    "import json\n",
    "from datetime import datetime"
   ]
  },
  {
   "cell_type": "code",
   "execution_count": 2,
   "metadata": {},
   "outputs": [],
   "source": [
    "# Чтение данных по API из GitHub.com\n",
    "def get_data_from_github_api(username):\n",
    "    \"\"\"Функция возвращает словарь с репозиториями указанного пользователя на GitHub.com.\n",
    "    Если у пользователя нет репозиториев, то функция возвращает пустой словарь.\n",
    "    Если такого пользователя нет, то функция возвращает None.\"\"\"\n",
    "\n",
    "    # Ссылка на API пользователя\n",
    "    link_to_user_repos = f'https://api.github.com/users/{username}/repos'\n",
    "\n",
    "    # Заголовки Google Chrome\n",
    "    headers = {\n",
    "        'User-Agent': 'Mozilla/5.0 (Windows NT 10.0; Win64; x64) AppleWebKit/537.36 (KHTML, like Gecko) '\n",
    "                      'Chrome/83.0.4103.61 Safari/537.36',\n",
    "        'Accept': '*/*'\n",
    "    }\n",
    "\n",
    "    # Параметры запроса\n",
    "    params = {\n",
    "        'type': 'owner',\n",
    "        'sort': 'created',\n",
    "        'direction': 'desc'\n",
    "    }\n",
    "\n",
    "    # Запрос и ответ\n",
    "    response = requests.get(link_to_user_repos, headers=headers, params=params)\n",
    "\n",
    "    # Данные с сервера (словарь)\n",
    "    data_from_api = {}\n",
    "\n",
    "    # Если ответ сервера 200 Ок, то берем данные\n",
    "    if response.ok:\n",
    "\n",
    "        data_from_api = response.json()\n",
    "\n",
    "        # Если пользователя нет, то возвращаем None\n",
    "        if data_from_api and data_from_api[0].get('message') == 'Not Found':\n",
    "            data_from_api = None\n",
    "\n",
    "    # Возвращаем словарь с данными (полный или пустой)\n",
    "    return data_from_api\n",
    "\n"
   ]
  },
  {
   "cell_type": "code",
   "execution_count": 3,
   "metadata": {},
   "outputs": [],
   "source": [
    "# Сохранение данных в json-файл\n",
    "def save_data_to_json_file(data, filename):\n",
    "    \"\"\"Функция сохраняет данные в json-файл.\n",
    "    Вовзращает True, если все ОК.\n",
    "    Возвращает False, если при записи произошел сбой.\"\"\"\n",
    "\n",
    "    # Запись файла через try-except, чтобы отловить ошибки\n",
    "    try:\n",
    "        with open(filename, 'w', encoding='utf-8') as my_file:\n",
    "            json.dump(data, my_file, ensure_ascii=False, indent=4)\n",
    "    except IOError:\n",
    "        return False\n",
    "    else:\n",
    "        return True\n"
   ]
  },
  {
   "cell_type": "code",
   "execution_count": 4,
   "metadata": {},
   "outputs": [
    {
     "name": "stdout",
     "output_type": "stream",
     "text": [
      "Имя пользователя: JaroslavPranov\n",
      "Количество репозиториев на GitHub.com: 5 шт.\n",
      "1) Название: gb_methods\n",
      "   Дата создания: 16.08.2021\n",
      "   Ссылка: https://github.com/JaroslavPranov/gb_methods\n",
      "2) Название: -Python-Data-Science\n",
      "   Описание: Study\n",
      "   Дата создания: 31.05.2021\n",
      "   Ссылка: https://github.com/JaroslavPranov/-Python-Data-Science\n",
      "3) Название: repo-gui_1\n",
      "   Описание: study-test\n",
      "   Дата создания: 29.05.2021\n",
      "   Ссылка: https://github.com/JaroslavPranov/repo-gui_1\n",
      "4) Название: repo-github\n",
      "   Описание: study-test\n",
      "   Дата создания: 29.05.2021\n",
      "   Ссылка: https://github.com/JaroslavPranov/repo-github\n",
      "5) Название: project\n",
      "   Описание: first_project\n",
      "   Дата создания: 29.01.2021\n",
      "   Ссылка: https://github.com/JaroslavPranov/project\n",
      "Полная информация записана в файл repos_of_JaroslavPranov.json\n"
     ]
    }
   ],
   "source": [
    "# Печать на экран\n",
    "def print_data(username, data):\n",
    "    \"\"\"Функция печатает на экран данные, полученные с GitHub.com\"\"\"\n",
    "\n",
    "    if data is None:\n",
    "        # Нет такого пользователя\n",
    "        print(f'На GitHub.com не существует пользователя {username}!')\n",
    "\n",
    "    elif data:\n",
    "        # Есть репозитории у пользователя\n",
    "        print(f'Имя пользователя: {username}')\n",
    "        print(f'Количество репозиториев на GitHub.com: {len(data)} шт.')\n",
    "        for i, repo in enumerate(data, 1):\n",
    "            whitespaces = len(str(i)) * ' '\n",
    "            original_format = '%Y-%m-%dT%H:%M:%SZ'  # 2020-04-08T17:59:52Z\n",
    "            ru_format = '%d.%m.%Y'\n",
    "            created_date = datetime.strptime(repo.get(\"created_at\"), original_format)\n",
    "            created_date = created_date.strftime(ru_format)\n",
    "            print(f'{i}) Название: {repo.get(\"name\")}')\n",
    "            if repo.get(\"description\"):\n",
    "                print(f'{whitespaces}  Описание: {repo.get(\"description\")}')\n",
    "            print(f'{whitespaces}  Дата создания: {created_date}')\n",
    "            print(f'{whitespaces}  Ссылка: {repo.get(\"html_url\")}')\n",
    "\n",
    "    else:\n",
    "        # У пользователя нет репозиториев\n",
    "        print(f'У пользователя {github_user} на GitHub.com нет репозиториев.')\n",
    "\n",
    "\n",
    "if __name__ == '__main__':\n",
    "\n",
    "    # Получение информации по API\n",
    "    github_user = 'JaroslavPranov'\n",
    "    user_repositories = get_data_from_github_api(github_user)\n",
    "\n",
    "    # Печать на экран\n",
    "    print_data(github_user, user_repositories)\n",
    "\n",
    "    # Запись в файл\n",
    "    json_filename = f'repos_of_{github_user}.json'\n",
    "    if save_data_to_json_file(user_repositories, json_filename):\n",
    "        print(f'Полная информация записана в файл {json_filename}')\n",
    "    else:\n",
    "        print(f'Внимание! Не удалось записать в файл {json_filename} полную информацию!')"
   ]
  }
 ],
 "metadata": {
  "colab": {
   "name": "Untitled0.ipynb",
   "provenance": []
  },
  "kernelspec": {
   "display_name": "Python 3",
   "language": "python",
   "name": "python3"
  },
  "language_info": {
   "codemirror_mode": {
    "name": "ipython",
    "version": 3
   },
   "file_extension": ".py",
   "mimetype": "text/x-python",
   "name": "python",
   "nbconvert_exporter": "python",
   "pygments_lexer": "ipython3",
   "version": "3.8.5"
  }
 },
 "nbformat": 4,
 "nbformat_minor": 1
}
